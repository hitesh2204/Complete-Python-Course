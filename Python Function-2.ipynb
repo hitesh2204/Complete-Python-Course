{
 "cells": [
  {
   "cell_type": "code",
   "execution_count": 2,
   "metadata": {},
   "outputs": [],
   "source": [
    "import pandas as pd"
   ]
  },
  {
   "cell_type": "code",
   "execution_count": 3,
   "metadata": {},
   "outputs": [
    {
     "data": {
      "text/plain": [
       "0    50.12\n",
       "1    54.10\n",
       "2    54.65\n",
       "3    52.38\n",
       "4    52.95\n",
       "5    53.90\n",
       "6    53.02\n",
       "7    50.95\n",
       "8    51.13\n",
       "9    50.07\n",
       "Name: Stock Price, dtype: float64"
      ]
     },
     "execution_count": 3,
     "metadata": {},
     "output_type": "execute_result"
    }
   ],
   "source": [
    "stock=pd.read_csv(\"E://Datasets//New Dataset//google_stock_price.csv\",squeeze=True)\n",
    "stock.head(10)"
   ]
  },
  {
   "cell_type": "markdown",
   "metadata": {},
   "source": [
    "## idxmax(), .idxmin() "
   ]
  },
  {
   "cell_type": "code",
   "execution_count": 4,
   "metadata": {},
   "outputs": [
    {
     "data": {
      "text/plain": [
       "3011"
      ]
     },
     "execution_count": 4,
     "metadata": {},
     "output_type": "execute_result"
    }
   ],
   "source": [
    "#idxmax() return maximum value of index.\n",
    "stock.idxmax()"
   ]
  },
  {
   "cell_type": "code",
   "execution_count": 5,
   "metadata": {},
   "outputs": [
    {
     "data": {
      "text/plain": [
       "11"
      ]
     },
     "execution_count": 5,
     "metadata": {},
     "output_type": "execute_result"
    }
   ],
   "source": [
    "#idxmax() return minimum value of index.\n",
    "stock.idxmin()"
   ]
  },
  {
   "cell_type": "code",
   "execution_count": 10,
   "metadata": {},
   "outputs": [
    {
     "name": "stdout",
     "output_type": "stream",
     "text": [
      "      Pokemon   Type\n",
      "0   Bulbasaur  Grass\n",
      "1     Ivysaur  Grass\n",
      "2    Venusaur  Grass\n",
      "3  Charmander   Fire\n",
      "4  Charmeleon   Fire\n",
      "5   Charizard   Fire\n",
      "6    Squirtle  Water\n",
      "7   Wartortle  Water\n",
      "8   Blastoise  Water\n",
      "9    Caterpie    Bug\n"
     ]
    }
   ],
   "source": [
    "pokemon=pd.read_csv(\"E://Datasets//New Dataset//pokemon_new.csv\",squeeze=True)\n",
    "print(pokemon.head(10))"
   ]
  },
  {
   "cell_type": "markdown",
   "metadata": {},
   "source": [
    "## value_counts Methods "
   ]
  },
  {
   "cell_type": "code",
   "execution_count": 12,
   "metadata": {},
   "outputs": [
    {
     "data": {
      "text/plain": [
       "Pokemon    721\n",
       "Type       721\n",
       "dtype: int64"
      ]
     },
     "execution_count": 12,
     "metadata": {},
     "output_type": "execute_result"
    }
   ],
   "source": [
    "#Count the number of category.\n",
    "pokemon.count()"
   ]
  },
  {
   "cell_type": "markdown",
   "metadata": {},
   "source": [
    "## .apply() Methods"
   ]
  },
  {
   "cell_type": "code",
   "execution_count": 13,
   "metadata": {},
   "outputs": [],
   "source": [
    "def classify_data(number):\n",
    "    if number<300:\n",
    "        return \"Good\"\n",
    "    elif number>500:\n",
    "        return \"Incredible\"\n",
    "    else:\n",
    "        return \"Satisfactory\"\n",
    "    "
   ]
  },
  {
   "cell_type": "code",
   "execution_count": 16,
   "metadata": {},
   "outputs": [
    {
     "data": {
      "text/plain": [
       "2997    Incredible\n",
       "2998    Incredible\n",
       "2999    Incredible\n",
       "3000    Incredible\n",
       "3001    Incredible\n",
       "3002    Incredible\n",
       "3003    Incredible\n",
       "3004    Incredible\n",
       "3005    Incredible\n",
       "3006    Incredible\n",
       "3007    Incredible\n",
       "3008    Incredible\n",
       "3009    Incredible\n",
       "3010    Incredible\n",
       "3011    Incredible\n",
       "Name: Stock Price, dtype: object"
      ]
     },
     "execution_count": 16,
     "metadata": {},
     "output_type": "execute_result"
    }
   ],
   "source": [
    "stock.apply(classify_data).tail(15)"
   ]
  },
  {
   "cell_type": "markdown",
   "metadata": {},
   "source": [
    "## Add New Column to Dataframe"
   ]
  },
  {
   "cell_type": "code",
   "execution_count": 32,
   "metadata": {},
   "outputs": [
    {
     "name": "stdout",
     "output_type": "stream",
     "text": [
      "      Pokemon   Type\n",
      "0   Bulbasaur  Grass\n",
      "1     Ivysaur  Grass\n",
      "2    Venusaur  Grass\n",
      "3  Charmander   Fire\n",
      "4  Charmeleon   Fire\n",
      "5   Charizard   Fire\n",
      "6    Squirtle  Water\n",
      "7   Wartortle  Water\n",
      "8   Blastoise  Water\n",
      "9    Caterpie    Bug\n"
     ]
    }
   ],
   "source": [
    "pokemon=pd.read_csv(\"E://Datasets//New Dataset//pokemon_new.csv\")\n",
    "print(pokemon.head(10))"
   ]
  },
  {
   "cell_type": "code",
   "execution_count": 33,
   "metadata": {},
   "outputs": [],
   "source": [
    "pokemon['Channel']=\"Sony_TV\""
   ]
  },
  {
   "cell_type": "code",
   "execution_count": 34,
   "metadata": {},
   "outputs": [
    {
     "data": {
      "text/html": [
       "<div>\n",
       "<style scoped>\n",
       "    .dataframe tbody tr th:only-of-type {\n",
       "        vertical-align: middle;\n",
       "    }\n",
       "\n",
       "    .dataframe tbody tr th {\n",
       "        vertical-align: top;\n",
       "    }\n",
       "\n",
       "    .dataframe thead th {\n",
       "        text-align: right;\n",
       "    }\n",
       "</style>\n",
       "<table border=\"1\" class=\"dataframe\">\n",
       "  <thead>\n",
       "    <tr style=\"text-align: right;\">\n",
       "      <th></th>\n",
       "      <th>Pokemon</th>\n",
       "      <th>Type</th>\n",
       "      <th>Channel</th>\n",
       "    </tr>\n",
       "  </thead>\n",
       "  <tbody>\n",
       "    <tr>\n",
       "      <td>0</td>\n",
       "      <td>Bulbasaur</td>\n",
       "      <td>Grass</td>\n",
       "      <td>Sony_TV</td>\n",
       "    </tr>\n",
       "    <tr>\n",
       "      <td>1</td>\n",
       "      <td>Ivysaur</td>\n",
       "      <td>Grass</td>\n",
       "      <td>Sony_TV</td>\n",
       "    </tr>\n",
       "    <tr>\n",
       "      <td>2</td>\n",
       "      <td>Venusaur</td>\n",
       "      <td>Grass</td>\n",
       "      <td>Sony_TV</td>\n",
       "    </tr>\n",
       "    <tr>\n",
       "      <td>3</td>\n",
       "      <td>Charmander</td>\n",
       "      <td>Fire</td>\n",
       "      <td>Sony_TV</td>\n",
       "    </tr>\n",
       "    <tr>\n",
       "      <td>4</td>\n",
       "      <td>Charmeleon</td>\n",
       "      <td>Fire</td>\n",
       "      <td>Sony_TV</td>\n",
       "    </tr>\n",
       "    <tr>\n",
       "      <td>...</td>\n",
       "      <td>...</td>\n",
       "      <td>...</td>\n",
       "      <td>...</td>\n",
       "    </tr>\n",
       "    <tr>\n",
       "      <td>716</td>\n",
       "      <td>Yveltal</td>\n",
       "      <td>Dark</td>\n",
       "      <td>Sony_TV</td>\n",
       "    </tr>\n",
       "    <tr>\n",
       "      <td>717</td>\n",
       "      <td>Zygarde</td>\n",
       "      <td>Dragon</td>\n",
       "      <td>Sony_TV</td>\n",
       "    </tr>\n",
       "    <tr>\n",
       "      <td>718</td>\n",
       "      <td>Diancie</td>\n",
       "      <td>Rock</td>\n",
       "      <td>Sony_TV</td>\n",
       "    </tr>\n",
       "    <tr>\n",
       "      <td>719</td>\n",
       "      <td>Hoopa</td>\n",
       "      <td>Psychic</td>\n",
       "      <td>Sony_TV</td>\n",
       "    </tr>\n",
       "    <tr>\n",
       "      <td>720</td>\n",
       "      <td>Volcanion</td>\n",
       "      <td>Fire</td>\n",
       "      <td>Sony_TV</td>\n",
       "    </tr>\n",
       "  </tbody>\n",
       "</table>\n",
       "<p>721 rows × 3 columns</p>\n",
       "</div>"
      ],
      "text/plain": [
       "        Pokemon     Type  Channel\n",
       "0     Bulbasaur    Grass  Sony_TV\n",
       "1       Ivysaur    Grass  Sony_TV\n",
       "2      Venusaur    Grass  Sony_TV\n",
       "3    Charmander     Fire  Sony_TV\n",
       "4    Charmeleon     Fire  Sony_TV\n",
       "..          ...      ...      ...\n",
       "716     Yveltal     Dark  Sony_TV\n",
       "717     Zygarde   Dragon  Sony_TV\n",
       "718     Diancie     Rock  Sony_TV\n",
       "719       Hoopa  Psychic  Sony_TV\n",
       "720   Volcanion     Fire  Sony_TV\n",
       "\n",
       "[721 rows x 3 columns]"
      ]
     },
     "execution_count": 34,
     "metadata": {},
     "output_type": "execute_result"
    }
   ],
   "source": [
    "pokemon"
   ]
  },
  {
   "cell_type": "code",
   "execution_count": 35,
   "metadata": {},
   "outputs": [
    {
     "data": {
      "text/html": [
       "<div>\n",
       "<style scoped>\n",
       "    .dataframe tbody tr th:only-of-type {\n",
       "        vertical-align: middle;\n",
       "    }\n",
       "\n",
       "    .dataframe tbody tr th {\n",
       "        vertical-align: top;\n",
       "    }\n",
       "\n",
       "    .dataframe thead th {\n",
       "        text-align: right;\n",
       "    }\n",
       "</style>\n",
       "<table border=\"1\" class=\"dataframe\">\n",
       "  <thead>\n",
       "    <tr style=\"text-align: right;\">\n",
       "      <th></th>\n",
       "      <th>Pokemon</th>\n",
       "      <th>Location</th>\n",
       "      <th>Type</th>\n",
       "      <th>Channel</th>\n",
       "    </tr>\n",
       "  </thead>\n",
       "  <tbody>\n",
       "    <tr>\n",
       "      <td>0</td>\n",
       "      <td>Bulbasaur</td>\n",
       "      <td>India</td>\n",
       "      <td>Grass</td>\n",
       "      <td>Sony_TV</td>\n",
       "    </tr>\n",
       "    <tr>\n",
       "      <td>1</td>\n",
       "      <td>Ivysaur</td>\n",
       "      <td>India</td>\n",
       "      <td>Grass</td>\n",
       "      <td>Sony_TV</td>\n",
       "    </tr>\n",
       "    <tr>\n",
       "      <td>2</td>\n",
       "      <td>Venusaur</td>\n",
       "      <td>India</td>\n",
       "      <td>Grass</td>\n",
       "      <td>Sony_TV</td>\n",
       "    </tr>\n",
       "    <tr>\n",
       "      <td>3</td>\n",
       "      <td>Charmander</td>\n",
       "      <td>India</td>\n",
       "      <td>Fire</td>\n",
       "      <td>Sony_TV</td>\n",
       "    </tr>\n",
       "    <tr>\n",
       "      <td>4</td>\n",
       "      <td>Charmeleon</td>\n",
       "      <td>India</td>\n",
       "      <td>Fire</td>\n",
       "      <td>Sony_TV</td>\n",
       "    </tr>\n",
       "    <tr>\n",
       "      <td>...</td>\n",
       "      <td>...</td>\n",
       "      <td>...</td>\n",
       "      <td>...</td>\n",
       "      <td>...</td>\n",
       "    </tr>\n",
       "    <tr>\n",
       "      <td>716</td>\n",
       "      <td>Yveltal</td>\n",
       "      <td>India</td>\n",
       "      <td>Dark</td>\n",
       "      <td>Sony_TV</td>\n",
       "    </tr>\n",
       "    <tr>\n",
       "      <td>717</td>\n",
       "      <td>Zygarde</td>\n",
       "      <td>India</td>\n",
       "      <td>Dragon</td>\n",
       "      <td>Sony_TV</td>\n",
       "    </tr>\n",
       "    <tr>\n",
       "      <td>718</td>\n",
       "      <td>Diancie</td>\n",
       "      <td>India</td>\n",
       "      <td>Rock</td>\n",
       "      <td>Sony_TV</td>\n",
       "    </tr>\n",
       "    <tr>\n",
       "      <td>719</td>\n",
       "      <td>Hoopa</td>\n",
       "      <td>India</td>\n",
       "      <td>Psychic</td>\n",
       "      <td>Sony_TV</td>\n",
       "    </tr>\n",
       "    <tr>\n",
       "      <td>720</td>\n",
       "      <td>Volcanion</td>\n",
       "      <td>India</td>\n",
       "      <td>Fire</td>\n",
       "      <td>Sony_TV</td>\n",
       "    </tr>\n",
       "  </tbody>\n",
       "</table>\n",
       "<p>721 rows × 4 columns</p>\n",
       "</div>"
      ],
      "text/plain": [
       "        Pokemon Location     Type  Channel\n",
       "0     Bulbasaur    India    Grass  Sony_TV\n",
       "1       Ivysaur    India    Grass  Sony_TV\n",
       "2      Venusaur    India    Grass  Sony_TV\n",
       "3    Charmander    India     Fire  Sony_TV\n",
       "4    Charmeleon    India     Fire  Sony_TV\n",
       "..          ...      ...      ...      ...\n",
       "716     Yveltal    India     Dark  Sony_TV\n",
       "717     Zygarde    India   Dragon  Sony_TV\n",
       "718     Diancie    India     Rock  Sony_TV\n",
       "719       Hoopa    India  Psychic  Sony_TV\n",
       "720   Volcanion    India     Fire  Sony_TV\n",
       "\n",
       "[721 rows x 4 columns]"
      ]
     },
     "execution_count": 35,
     "metadata": {},
     "output_type": "execute_result"
    }
   ],
   "source": [
    "# if you want to add column in specific index then we used insert method.\n",
    "pokemon.insert(1,column='Location',value='India')\n",
    "pokemon"
   ]
  },
  {
   "cell_type": "code",
   "execution_count": null,
   "metadata": {},
   "outputs": [],
   "source": []
  },
  {
   "cell_type": "code",
   "execution_count": null,
   "metadata": {},
   "outputs": [],
   "source": []
  }
 ],
 "metadata": {
  "kernelspec": {
   "display_name": "Python 3",
   "language": "python",
   "name": "python3"
  },
  "language_info": {
   "codemirror_mode": {
    "name": "ipython",
    "version": 3
   },
   "file_extension": ".py",
   "mimetype": "text/x-python",
   "name": "python",
   "nbconvert_exporter": "python",
   "pygments_lexer": "ipython3",
   "version": "3.7.4"
  }
 },
 "nbformat": 4,
 "nbformat_minor": 2
}
